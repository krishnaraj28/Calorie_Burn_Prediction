{
  "nbformat": 4,
  "nbformat_minor": 0,
  "metadata": {
    "colab": {
      "provenance": [],
      "authorship_tag": "ABX9TyPY7nmBX7iKGZqyDgPTh9Do",
      "include_colab_link": true
    },
    "kernelspec": {
      "name": "python3",
      "display_name": "Python 3"
    },
    "language_info": {
      "name": "python"
    }
  },
  "cells": [
    {
      "cell_type": "markdown",
      "metadata": {
        "id": "view-in-github",
        "colab_type": "text"
      },
      "source": [
        "<a href=\"https://colab.research.google.com/github/krishnaraj28/Calorie_Burn_Prediction/blob/main/knn.ipynb\" target=\"_parent\"><img src=\"https://colab.research.google.com/assets/colab-badge.svg\" alt=\"Open In Colab\"/></a>"
      ]
    },
    {
      "cell_type": "code",
      "execution_count": null,
      "metadata": {
        "colab": {
          "base_uri": "https://localhost:8080/"
        },
        "id": "cUVlF5rvFjyF",
        "outputId": "a3bcbc64-2965-4d49-9d6f-f8b37990e123"
      },
      "outputs": [
        {
          "output_type": "stream",
          "name": "stdout",
          "text": [
            "Missing values in each column:\n",
            " User_ID       0\n",
            "Gender        0\n",
            "Age           0\n",
            "Height        0\n",
            "Weight        0\n",
            "Duration      0\n",
            "Heart_Rate    0\n",
            "Body_Temp     0\n",
            "Calories      0\n",
            "dtype: int64\n",
            "===== KNN REGRESSOR PERFORMANCE =====\n",
            "R² Score: 0.9893\n",
            "Mean Absolute Error (MAE): 4.88\n",
            "Mean Squared Error (MSE): 43.27\n",
            "Root Mean Squared Error (RMSE): 6.58\n"
          ]
        }
      ],
      "source": [
        "# ------------------------------\n",
        "# Calories Burnt Prediction - KNN Regressor (By Sourav Sundar)\n",
        "# ------------------------------\n",
        "\n",
        "# Step 1: Import Libraries\n",
        "import pandas as pd\n",
        "import numpy as np\n",
        "from sklearn.model_selection import train_test_split\n",
        "from sklearn.preprocessing import StandardScaler, LabelEncoder\n",
        "from sklearn.neighbors import KNeighborsRegressor\n",
        "from sklearn.metrics import r2_score, mean_absolute_error, mean_squared_error\n",
        "import pickle\n",
        "\n",
        "# Step 2: Load Dataset\n",
        "data = pd.read_csv(\"calories.csv\")\n",
        "\n",
        "# Step 3: Handle Categorical Columns (Encoding Gender)\n",
        "if 'Gender' in data.columns:\n",
        "    le = LabelEncoder()\n",
        "    data['Gender'] = le.fit_transform(data['Gender'])  # Male=1, Female=0\n",
        "\n",
        "# Step 4: Check for missing values\n",
        "print(\"Missing values in each column:\\n\", data.isnull().sum())\n",
        "\n",
        "# Step 5: Split into Features and Target\n",
        "# Assuming 'Calories' is the target column\n",
        "X = data.drop('Calories', axis=1)\n",
        "y = data['Calories']\n",
        "\n",
        "# Step 6: Train-Test Split\n",
        "X_train, X_test, y_train, y_test = train_test_split(X, y, test_size=0.2, random_state=42)\n",
        "\n",
        "# Step 7: Feature Scaling\n",
        "scaler = StandardScaler()\n",
        "X_train_scaled = scaler.fit_transform(X_train)\n",
        "X_test_scaled = scaler.transform(X_test)\n",
        "\n",
        "# Step 8: Save the Scaler\n",
        "with open('scaler.pkl', 'wb') as file:\n",
        "    pickle.dump(scaler, file)\n",
        "\n",
        "# Step 9: Build KNN Regressor Model\n",
        "knn = KNeighborsRegressor(n_neighbors=5)\n",
        "knn.fit(X_train_scaled, y_train)\n",
        "\n",
        "# Step 10: Make Predictions\n",
        "y_pred = knn.predict(X_test_scaled)\n",
        "\n",
        "# Step 11: Evaluate Model\n",
        "r2 = r2_score(y_test, y_pred)\n",
        "mae = mean_absolute_error(y_test, y_pred)\n",
        "mse = mean_squared_error(y_test, y_pred)\n",
        "rmse = np.sqrt(mse)\n",
        "\n",
        "print(\"===== KNN REGRESSOR PERFORMANCE =====\")\n",
        "print(f\"R² Score: {r2:.4f}\")\n",
        "print(f\"Mean Absolute Error (MAE): {mae:.2f}\")\n",
        "print(f\"Mean Squared Error (MSE): {mse:.2f}\")\n",
        "print(f\"Root Mean Squared Error (RMSE): {rmse:.2f}\")\n",
        "\n"
      ]
    }
  ]
}