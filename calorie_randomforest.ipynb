{
  "nbformat": 4,
  "nbformat_minor": 0,
  "metadata": {
    "colab": {
      "provenance": []
    },
    "kernelspec": {
      "name": "python3",
      "display_name": "Python 3"
    },
    "language_info": {
      "name": "python"
    }
  },
  "cells": [
    {
      "cell_type": "code",
      "execution_count": 1,
      "metadata": {
        "colab": {
          "base_uri": "https://localhost:8080/"
        },
        "id": "AJfHQd-sJxH3",
        "outputId": "5d9bd377-3826-4287-fe06-456d2a57895d"
      },
      "outputs": [
        {
          "output_type": "stream",
          "name": "stdout",
          "text": [
            "    User_ID  Gender  Age  Height  Weight  Duration  Heart_Rate  Body_Temp  \\\n",
            "0  14733363    male   68   190.0    94.0      29.0       105.0       40.8   \n",
            "1  14861698  female   20   166.0    60.0      14.0        94.0       40.3   \n",
            "2  11179863    male   69   179.0    79.0       5.0        88.0       38.7   \n",
            "3  16180408  female   34   179.0    71.0      13.0       100.0       40.5   \n",
            "4  17771927  female   27   154.0    58.0      10.0        81.0       39.8   \n",
            "\n",
            "   Calories  \n",
            "0     231.0  \n",
            "1      66.0  \n",
            "2      26.0  \n",
            "3      71.0  \n",
            "4      35.0  \n",
            "RandomForestRegressor Performance\n",
            "Training Error (MAE): 0.6409\n",
            "Validation Error (MAE): 1.6109\n",
            "Training R-squared: 0.9997\n",
            "Validation R-squared: 0.9982\n"
          ]
        }
      ],
      "source": [
        "import numpy as np\n",
        "import pandas as pd\n",
        "import matplotlib.pyplot as plt\n",
        "import seaborn as sb\n",
        "from sklearn.model_selection import train_test_split\n",
        "from sklearn.preprocessing import LabelEncoder, StandardScaler\n",
        "from sklearn.ensemble import RandomForestRegressor\n",
        "from sklearn.metrics import mean_absolute_error,r2_score\n",
        "import warnings\n",
        "warnings.filterwarnings('ignore')\n",
        "\n",
        "# Load dataset\n",
        "df = pd.read_csv('calories.csv')\n",
        "\n",
        "# Preview dataset\n",
        "print(df.head())\n",
        "\n",
        "# Encode categorical features (Gender)\n",
        "le = LabelEncoder()\n",
        "df['Gender'] = le.fit_transform(df['Gender'])\n",
        "\n",
        "# Define features and target variable\n",
        "features = df.drop(['User_ID', 'Calories'], axis=1)\n",
        "target = df['Calories'].values\n",
        "\n",
        "# Split dataset into training and validation (test) sets\n",
        "X_train, X_val, y_train, y_val = train_test_split(features, target, test_size=0.1, random_state=22)\n",
        "\n",
        "# Normalize features using StandardScaler\n",
        "scaler = StandardScaler()\n",
        "X_train = scaler.fit_transform(X_train)\n",
        "X_val = scaler.transform(X_val)\n",
        "\n",
        "# Initialize and train RandomForestRegressor\n",
        "rf = RandomForestRegressor(n_estimators=100, random_state=42)\n",
        "rf.fit(X_train, y_train)\n",
        "\n",
        "# Predict on training and validation data\n",
        "train_preds = rf.predict(X_train)\n",
        "val_preds = rf.predict(X_val)\n",
        "\n",
        "# Evaluation using Mean Absolute Error (MAE)\n",
        "print(\"RandomForestRegressor Performance\")\n",
        "print(f\"Training Error (MAE): {mean_absolute_error(y_train, train_preds):.4f}\")\n",
        "print(f\"Validation Error (MAE): {mean_absolute_error(y_val, val_preds):.4f}\")\n",
        "\n",
        "print(f\"Training R-squared: {r2_score(y_train, train_preds):.4f}\")\n",
        "print(f\"Validation R-squared: {r2_score(y_val, val_preds):.4f}\")\n"
      ]
    }
  ]
}